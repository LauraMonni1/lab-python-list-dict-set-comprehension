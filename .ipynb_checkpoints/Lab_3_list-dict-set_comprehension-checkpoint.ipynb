{
 "cells": [
  {
   "cell_type": "code",
   "execution_count": 25,
   "id": "aee2b98d",
   "metadata": {},
   "outputs": [],
   "source": [
    "def initialize_inventory (products:list):  \n",
    "    while True:\n",
    "        try:\n",
    "            inventory = {product: int(input(f\"How many {product}s are there? \")) for product in products} # dict comprehension (without try/except for error handling that was present in teh lab before)\n",
    "            # with the comprehenesion, the handling of the Error is not perfect because whenever the user types a mistake, the code starts asking again from the first product                                                                          \n",
    "            break\n",
    "        except ValueError:\n",
    "            print(\"Please enter a valid number\")\n",
    "        \n",
    "    print() # space line\n",
    "    print(\"The inventory contains: \")\n",
    "    for product, quantity in inventory.items(): # loop to print the dictionary keys and values in separate lines so the user knows how many products are there \n",
    "        print(f\"{product}s: {quantity}\")\n",
    "        \n",
    "    print() # space line\n",
    "    \n",
    "    return inventory "
   ]
  },
  {
   "cell_type": "code",
   "execution_count": 19,
   "id": "d49ba855",
   "metadata": {},
   "outputs": [],
   "source": [
    "def get_customer_orders():\n",
    "\n",
    "    number_orders = int(input(\"Please enter the number of customer orders: \"))\n",
    "    customer_orders = [input(f\"Enter the product {product + 1} the customer wants to order: \") for product in range(number_orders)]\n",
    "                    \n",
    "    return customer_orders"
   ]
  },
  {
   "cell_type": "code",
   "execution_count": 40,
   "id": "c4163bb0",
   "metadata": {},
   "outputs": [],
   "source": [
    "def update_inventory(customer_orders: set, inventory: dict):\n",
    "    \n",
    "    updated_inventory = {product: (inventory[product]- 1 if product in customer_orders else inventory[product]) for product in inventory.keys()} # dict comprehension\n",
    "    updated_inventory = {product: updated_inventory[product] for product in updated_inventory.keys() if updated_inventory[product] > 0} \n",
    "    \n",
    "    #elif product in customer_orders and inventory[product] == 0 inventory(product).pop() \n",
    "    return updated_inventory"
   ]
  },
  {
   "cell_type": "code",
   "execution_count": 4,
   "id": "c0ca48be",
   "metadata": {},
   "outputs": [],
   "source": [
    "def calculate_order_statistics(customer_orders:set, products:list):\n",
    "    \n",
    "    \"\"\"This function calculates the statistics of the order \n",
    "    returning a tuple containing the total number of products ordered and the \n",
    "    percentange of the ordered product in the inventory\"\"\"\n",
    "    \n",
    "    products = list(inventory.values())\n",
    "    \n",
    "    total_order = len(customer_orders)\n",
    "    total_inventory = sum(products)\n",
    "    percentage_order = ((total_order/total_inventory)*100)  # % of ordered products in the inventory\n",
    "    order_status = (total_order, percentage_order) # tuple storing the statistics of ordered products\n",
    "    \n",
    "    return order_status  "
   ]
  },
  {
   "cell_type": "code",
   "execution_count": 23,
   "id": "cb69ecb4",
   "metadata": {},
   "outputs": [],
   "source": [
    "def print_order_statistics(order_status):\n",
    "    \n",
    "    \"\"\"The function allows to print the order_status tuple with the statistics of the order\"\"\"\n",
    "    \n",
    "    total = order_status[0]\n",
    "    percentage = order_status[1]\n",
    "    \n",
    "    print()  # space line\n",
    "    print(f\"\"\"Order Statistics: \n",
    "    Total Products Ordered:{total}\n",
    "    Percentage of Products Ordered: {percentage: .1f}%\"\"\")\n",
    "    \n",
    "    return"
   ]
  },
  {
   "cell_type": "code",
   "execution_count": 42,
   "id": "901baf6f",
   "metadata": {},
   "outputs": [],
   "source": [
    "def print_updated_inventory(updated_inventory:dict):\n",
    "    \n",
    "    print() # space line\n",
    "    print(\"The updated inventory contains:\")\n",
    "    {print(f\"{product}s: {quantity}\") for product, quantity in updated_inventory.items()} # dict comprehension\n",
    "        \n",
    "    return"
   ]
  },
  {
   "cell_type": "code",
   "execution_count": null,
   "id": "fb5cff95",
   "metadata": {},
   "outputs": [],
   "source": [
    "def print_price(customer_orders):\n",
    "    \n",
    "    for ordered_products in customer_orders:\n",
    "        product_price = print(int(input(f\"Enter the price of {ordered_product}\")))\n",
    "        \n",
    "    print()\n",
    "    print(f\"Total price:{sum(product_price)} \")"
   ]
  },
  {
   "cell_type": "code",
   "execution_count": null,
   "id": "5ad13171",
   "metadata": {},
   "outputs": [],
   "source": [
    "inventory = initialize_inventory([\"t-shirt\", \"mug\", \"hat\", \"book\", \"keychain\"])\n",
    "\n",
    "customer_orders = get_customer_orders()\n",
    "\n",
    "updated_inventory = update_inventory(customer_orders, inventory)\n",
    "\n",
    "my_stats = calculate_order_statistics(customer_orders, inventory)\n",
    "\n",
    "print_order_statistics(my_stats)\n",
    "\n",
    "print_updated_inventory(updated_inventory)\n",
    "\n",
    "print_price(customer_orders)\n"
   ]
  },
  {
   "cell_type": "code",
   "execution_count": null,
   "id": "0af32bc4",
   "metadata": {},
   "outputs": [],
   "source": []
  }
 ],
 "metadata": {
  "kernelspec": {
   "display_name": "Python 3 (ipykernel)",
   "language": "python",
   "name": "python3"
  },
  "language_info": {
   "codemirror_mode": {
    "name": "ipython",
    "version": 3
   },
   "file_extension": ".py",
   "mimetype": "text/x-python",
   "name": "python",
   "nbconvert_exporter": "python",
   "pygments_lexer": "ipython3",
   "version": "3.11.5"
  }
 },
 "nbformat": 4,
 "nbformat_minor": 5
}
